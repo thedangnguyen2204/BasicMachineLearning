{
 "cells": [
  {
   "cell_type": "code",
   "execution_count": 1,
   "metadata": {},
   "outputs": [],
   "source": [
    "from __future__ import division, print_function, unicode_literals\n",
    "import numpy as np\n",
    "from scipy.sparse import coo_matrix\n",
    "from sklearn.naive_bayes import MultinomialNB, BernoulliNB\n",
    "from sklearn.metrics import accuracy_score"
   ]
  },
  {
   "cell_type": "code",
   "execution_count": 5,
   "metadata": {},
   "outputs": [],
   "source": [
    "# Bài toán phân loại email spam hoặc không với dữ liệu đã được xử lý\n",
    "path = 'ex6DataPrepared/'\n",
    "train_data_fn = 'train-features.txt'\n",
    "test_data_fn = 'test-features.txt'\n",
    "train_label_fn = 'train-labels.txt'\n",
    "test_label_fn = 'test-labels.txt'"
   ]
  },
  {
   "cell_type": "code",
   "execution_count": 31,
   "metadata": {},
   "outputs": [],
   "source": [
    "nwords = 2500\n",
    "def read_data(data_fn, label_fn):\n",
    "#     read label_fn\n",
    "    with open(path + label_fn) as f:\n",
    "        content = f.readlines()\n",
    "    labels = [int(x.strip()) for x in content]\n",
    "#     read data_fn\n",
    "    with open(path + data_fn) as f:\n",
    "        content = f.readlines()\n",
    "    content = [x.strip() for x in content]\n",
    "      \n",
    "    dat = np.zeros((len(content), 3), dtype=int)\n",
    "    \n",
    "    for i, line in enumerate(content):\n",
    "        a = line.split(' ')\n",
    "        dat[i, :] = np.array([int(a[0]), int(a[1]), int(a[2])])\n",
    "#     matrix dat là một ma trận sparse nên phải dùng hàm coo_matrix\n",
    "    data = coo_matrix((dat[:,2], (dat[:,0]-1, dat[:,1]-1)), shape=(len(labels),nwords))\n",
    "    \n",
    "    return (data, labels)"
   ]
  },
  {
   "cell_type": "code",
   "execution_count": 32,
   "metadata": {
    "scrolled": true
   },
   "outputs": [
    {
     "data": {
      "text/plain": [
       "MultinomialNB(alpha=1.0, class_prior=None, fit_prior=True)"
      ]
     },
     "execution_count": 32,
     "metadata": {},
     "output_type": "execute_result"
    }
   ],
   "source": [
    "(train_data, train_label) = read_data(train_data_fn, train_label_fn)\n",
    "(test_data, test_label) = read_data(test_data_fn, test_label_fn)\n",
    "clf = MultinomialNB()\n",
    "clf.fit(train_data, train_label)"
   ]
  },
  {
   "cell_type": "code",
   "execution_count": 22,
   "metadata": {},
   "outputs": [
    {
     "name": "stdout",
     "output_type": "stream",
     "text": [
      "0.9807692307692307\n"
     ]
    }
   ],
   "source": [
    "y_pred = clf.predict(test_data)\n",
    "print(accuracy_score(test_label, y_pred))"
   ]
  },
  {
   "cell_type": "code",
   "execution_count": 38,
   "metadata": {},
   "outputs": [
    {
     "name": "stdout",
     "output_type": "stream",
     "text": [
      "  (0, 18)\t2\n",
      "  (0, 44)\t1\n",
      "  (0, 49)\t1\n",
      "  (0, 74)\t1\n",
      "  (0, 84)\t1\n",
      "  (0, 138)\t1\n",
      "  (0, 199)\t1\n",
      "  (0, 350)\t1\n",
      "  (0, 351)\t1\n",
      "  (0, 512)\t1\n",
      "  (0, 563)\t1\n",
      "  (0, 742)\t1\n",
      "  (0, 776)\t1\n",
      "  (0, 1130)\t1\n",
      "  (0, 1276)\t1\n",
      "  (0, 1638)\t1\n",
      "  (0, 1763)\t1\n",
      "  (0, 1815)\t1\n",
      "  (0, 1867)\t1\n",
      "  (1, 34)\t5\n",
      "  (1, 96)\t1\n",
      "  (1, 102)\t2\n",
      "  (1, 158)\t1\n",
      "  (1, 293)\t2\n",
      "  (1, 726)\t1\n",
      "  :\t:\n",
      "  (699, 2048)\t4\n",
      "  (699, 2054)\t4\n",
      "  (699, 2057)\t2\n",
      "  (699, 2071)\t4\n",
      "  (699, 2084)\t2\n",
      "  (699, 2108)\t3\n",
      "  (699, 2126)\t1\n",
      "  (699, 2172)\t1\n",
      "  (699, 2198)\t3\n",
      "  (699, 2226)\t1\n",
      "  (699, 2231)\t1\n",
      "  (699, 2236)\t1\n",
      "  (699, 2244)\t1\n",
      "  (699, 2325)\t1\n",
      "  (699, 2356)\t3\n",
      "  (699, 2377)\t2\n",
      "  (699, 2397)\t4\n",
      "  (699, 2401)\t1\n",
      "  (699, 2418)\t1\n",
      "  (699, 2432)\t1\n",
      "  (699, 2433)\t1\n",
      "  (699, 2471)\t1\n",
      "  (699, 2478)\t2\n",
      "  (699, 2480)\t2\n",
      "  (699, 2499)\t3\n"
     ]
    }
   ],
   "source": [
    "print(train_data)"
   ]
  }
 ],
 "metadata": {
  "kernelspec": {
   "display_name": "Python 3",
   "language": "python",
   "name": "python3"
  },
  "language_info": {
   "codemirror_mode": {
    "name": "ipython",
    "version": 3
   },
   "file_extension": ".py",
   "mimetype": "text/x-python",
   "name": "python",
   "nbconvert_exporter": "python",
   "pygments_lexer": "ipython3",
   "version": "3.6.5"
  }
 },
 "nbformat": 4,
 "nbformat_minor": 2
}
