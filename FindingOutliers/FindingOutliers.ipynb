{
 "cells": [
  {
   "cell_type": "code",
   "execution_count": 1,
   "metadata": {},
   "outputs": [],
   "source": [
    "import numpy as np\n",
    "import matplotlib.pyplot as plt"
   ]
  },
  {
   "cell_type": "code",
   "execution_count": 2,
   "metadata": {},
   "outputs": [],
   "source": [
    "n_samples = 100\n",
    "n_outliers = 10\n",
    "n_inliers = 90\n",
    "normal_data = np.random.randn(n_inliers, 1)"
   ]
  },
  {
   "cell_type": "code",
   "execution_count": 3,
   "metadata": {
    "scrolled": true
   },
   "outputs": [
    {
     "name": "stdout",
     "output_type": "stream",
     "text": [
      "mean [0.32266367]\n",
      "/n\n",
      "std [1.00261187]\n"
     ]
    }
   ],
   "source": [
    "print(\"mean\", np.mean(normal_data, axis=0))\n",
    "print(\"/n\")\n",
    "print(\"std\", np.std(normal_data, axis=0))"
   ]
  },
  {
   "cell_type": "code",
   "execution_count": 4,
   "metadata": {},
   "outputs": [
    {
     "data": {
      "text/plain": [
       "(100, 1)"
      ]
     },
     "execution_count": 4,
     "metadata": {},
     "output_type": "execute_result"
    }
   ],
   "source": [
    "outlier_data = np.random.uniform(low=-9, high=9, size=(n_outliers, 1))\n",
    "total_data = np.r_[normal_data, outlier_data]\n",
    "total_data.shape"
   ]
  },
  {
   "cell_type": "code",
   "execution_count": 7,
   "metadata": {},
   "outputs": [
    {
     "data": {
      "text/plain": [
       "<matplotlib.collections.PathCollection at 0x1ea250ea5f8>"
      ]
     },
     "execution_count": 7,
     "metadata": {},
     "output_type": "execute_result"
    },
    {
     "data": {
      "image/png": "[encoded data removed]",
      "text/plain": [
       "<Figure size 432x288 with 1 Axes>"
      ]
     },
     "metadata": {},
     "output_type": "display_data"
    }
   ],
   "source": [
    "plt.cla()\n",
    "plt.figure(1)\n",
    "plt.scatter(range(len(total_data)),total_data)"
   ]
  },
  {
   "cell_type": "code",
   "execution_count": 14,
   "metadata": {},
   "outputs": [
    {
     "name": "stdout",
     "output_type": "stream",
     "text": [
      "Outlier 8.93\n",
      "Outlier -6.97\n",
      "Outlier -5.43\n",
      "Outlier -5.76\n",
      "Outlier 4.86\n",
      "Outlier -4.96\n"
     ]
    },
    {
     "data": {
      "image/png": "[encoded data removed]",
      "text/plain": [
       "<Figure size 432x288 with 1 Axes>"
      ]
     },
     "metadata": {},
     "output_type": "display_data"
    }
   ],
   "source": [
    "# Median Absolute Deviation\n",
    "median = np.median(total_data)\n",
    "b = 1.5\n",
    "mad = b * np.median(np.abs(total_data - median))\n",
    "outliers = []\n",
    "outlier_index = []\n",
    "lower_limit = median - 3 * mad\n",
    "upper_limit = median + 3 * mad\n",
    "for i in range(len(total_data)):\n",
    "    if total_data[i] > upper_limit or total_data[i] < lower_limit:\n",
    "        print (\"Outlier %0.2f\"%(total_data[i]))\n",
    "        outliers.append(total_data[i])\n",
    "        outlier_index.append(i)\n",
    "plt.figure(2)\n",
    "plt.title(\"Outliers using mad\")\n",
    "plt.scatter(range(len(total_data)),total_data,c='b')\n",
    "plt.scatter(outlier_index,outliers,c='r')\n",
    "plt.show()"
   ]
  },
  {
   "cell_type": "code",
   "execution_count": null,
   "metadata": {},
   "outputs": [],
   "source": []
  },
  {
   "cell_type": "code",
   "execution_count": null,
   "metadata": {},
   "outputs": [],
   "source": []
  }
 ],
 "metadata": {
  "kernelspec": {
   "display_name": "Python 3",
   "language": "python",
   "name": "python3"
  },
  "language_info": {
   "codemirror_mode": {
    "name": "ipython",
    "version": 3
   },
   "file_extension": ".py",
   "mimetype": "text/x-python",
   "name": "python",
   "nbconvert_exporter": "python",
   "pygments_lexer": "ipython3",
   "version": "3.6.5"
  }
 },
 "nbformat": 4,
 "nbformat_minor": 2
}
